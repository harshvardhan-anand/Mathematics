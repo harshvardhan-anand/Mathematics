{
 "cells": [
  {
   "cell_type": "code",
   "execution_count": 16,
   "metadata": {},
   "outputs": [],
   "source": [
    "import pandas as pd\n",
    "import math"
   ]
  },
  {
   "cell_type": "code",
   "execution_count": 3,
   "metadata": {},
   "outputs": [
    {
     "name": "stdout",
     "output_type": "stream",
     "text": [
      "Enter the expression in terms of x: x*math.tan(x)-1.28\n"
     ]
    }
   ],
   "source": [
    "expression = (input(\"Enter the expression in terms of x: \"))"
   ]
  },
  {
   "cell_type": "code",
   "execution_count": 4,
   "metadata": {},
   "outputs": [
    {
     "name": "stdout",
     "output_type": "stream",
     "text": [
      "Enter the precision digits: 3\n"
     ]
    }
   ],
   "source": [
    "precision = int(input(\"Enter the precision digits: \"))"
   ]
  },
  {
   "cell_type": "code",
   "execution_count": 32,
   "metadata": {},
   "outputs": [
    {
     "name": "stdout",
     "output_type": "stream",
     "text": [
      "enter the guess point 1: 0\n"
     ]
    }
   ],
   "source": [
    "a = round(int(input(\"enter the guess point 1: \")), precision+1)"
   ]
  },
  {
   "cell_type": "code",
   "execution_count": 33,
   "metadata": {},
   "outputs": [
    {
     "name": "stdout",
     "output_type": "stream",
     "text": [
      "Enter the guess point 2: 1\n"
     ]
    }
   ],
   "source": [
    "b = round(int(input(\"Enter the guess point 2: \")), precision+1)"
   ]
  },
  {
   "cell_type": "code",
   "execution_count": 62,
   "metadata": {},
   "outputs": [],
   "source": [
    "g1 = a"
   ]
  },
  {
   "cell_type": "code",
   "execution_count": 63,
   "metadata": {},
   "outputs": [],
   "source": [
    "g2 = b"
   ]
  },
  {
   "cell_type": "code",
   "execution_count": 64,
   "metadata": {},
   "outputs": [],
   "source": [
    "bisect = None"
   ]
  },
  {
   "cell_type": "code",
   "execution_count": 65,
   "metadata": {},
   "outputs": [],
   "source": [
    "var1 = [g1]"
   ]
  },
  {
   "cell_type": "code",
   "execution_count": 66,
   "metadata": {},
   "outputs": [],
   "source": [
    "var2 = [g2]"
   ]
  },
  {
   "cell_type": "code",
   "execution_count": 67,
   "metadata": {},
   "outputs": [],
   "source": [
    "x = g1"
   ]
  },
  {
   "cell_type": "code",
   "execution_count": 68,
   "metadata": {},
   "outputs": [],
   "source": [
    "#value of fx\n",
    "var1.append(eval(expression))"
   ]
  },
  {
   "cell_type": "code",
   "execution_count": 69,
   "metadata": {},
   "outputs": [],
   "source": [
    "x = g2"
   ]
  },
  {
   "cell_type": "code",
   "execution_count": 70,
   "metadata": {},
   "outputs": [],
   "source": [
    "#value of fx\n",
    "var2.append(eval(expression))"
   ]
  },
  {
   "cell_type": "code",
   "execution_count": 75,
   "metadata": {},
   "outputs": [],
   "source": [
    "subdf1 = pd.DataFrame([var1[0]], index = [0])\n",
    "\n",
    "subdf2 = pd.DataFrame([var2[0]], index = [1])"
   ]
  },
  {
   "cell_type": "code",
   "execution_count": 76,
   "metadata": {},
   "outputs": [],
   "source": [
    "iter = pd.concat([subdf1, subdf2] )"
   ]
  },
  {
   "cell_type": "code",
   "execution_count": 77,
   "metadata": {},
   "outputs": [
    {
     "name": "stdout",
     "output_type": "stream",
     "text": [
      "[0, -1.0068487550781047] [1, 0.27740772465490227]\n"
     ]
    },
    {
     "data": {
      "text/html": [
       "<div>\n",
       "<style scoped>\n",
       "    .dataframe tbody tr th:only-of-type {\n",
       "        vertical-align: middle;\n",
       "    }\n",
       "\n",
       "    .dataframe tbody tr th {\n",
       "        vertical-align: top;\n",
       "    }\n",
       "\n",
       "    .dataframe thead th {\n",
       "        text-align: right;\n",
       "    }\n",
       "</style>\n",
       "<table border=\"1\" class=\"dataframe\">\n",
       "  <thead>\n",
       "    <tr style=\"text-align: right;\">\n",
       "      <th></th>\n",
       "      <th>0</th>\n",
       "    </tr>\n",
       "  </thead>\n",
       "  <tbody>\n",
       "    <tr>\n",
       "      <th>0</th>\n",
       "      <td>0</td>\n",
       "    </tr>\n",
       "    <tr>\n",
       "      <th>1</th>\n",
       "      <td>1</td>\n",
       "    </tr>\n",
       "  </tbody>\n",
       "</table>\n",
       "</div>"
      ],
      "text/plain": [
       "   0\n",
       "0  0\n",
       "1  1"
      ]
     },
     "execution_count": 77,
     "metadata": {},
     "output_type": "execute_result"
    }
   ],
   "source": [
    "print(var1, var2)\n",
    "iter"
   ]
  },
  {
   "cell_type": "code",
   "execution_count": 78,
   "metadata": {},
   "outputs": [
    {
     "name": "stdout",
     "output_type": "stream",
     "text": [
      "1\n",
      "2\n",
      "3\n",
      "4\n",
      "5\n",
      "6\n",
      "7\n",
      "8\n",
      "9\n",
      "10\n",
      "11\n"
     ]
    },
    {
     "data": {
      "text/html": [
       "<div>\n",
       "<style scoped>\n",
       "    .dataframe tbody tr th:only-of-type {\n",
       "        vertical-align: middle;\n",
       "    }\n",
       "\n",
       "    .dataframe tbody tr th {\n",
       "        vertical-align: top;\n",
       "    }\n",
       "\n",
       "    .dataframe thead th {\n",
       "        text-align: right;\n",
       "    }\n",
       "</style>\n",
       "<table border=\"1\" class=\"dataframe\">\n",
       "  <thead>\n",
       "    <tr style=\"text-align: right;\">\n",
       "      <th></th>\n",
       "      <th>0</th>\n",
       "      <th>0</th>\n",
       "    </tr>\n",
       "  </thead>\n",
       "  <tbody>\n",
       "    <tr>\n",
       "      <th>0</th>\n",
       "      <td>0.000</td>\n",
       "      <td>0.000000</td>\n",
       "    </tr>\n",
       "    <tr>\n",
       "      <th>1</th>\n",
       "      <td>1.000</td>\n",
       "      <td>1.000000</td>\n",
       "    </tr>\n",
       "    <tr>\n",
       "      <th>2</th>\n",
       "      <td>0.750</td>\n",
       "      <td>-0.581303</td>\n",
       "    </tr>\n",
       "    <tr>\n",
       "      <th>3</th>\n",
       "      <td>0.875</td>\n",
       "      <td>-0.232256</td>\n",
       "    </tr>\n",
       "    <tr>\n",
       "      <th>4</th>\n",
       "      <td>0.938</td>\n",
       "      <td>-0.003058</td>\n",
       "    </tr>\n",
       "    <tr>\n",
       "      <th>5</th>\n",
       "      <td>0.969</td>\n",
       "      <td>0.130938</td>\n",
       "    </tr>\n",
       "    <tr>\n",
       "      <th>6</th>\n",
       "      <td>0.954</td>\n",
       "      <td>0.063270</td>\n",
       "    </tr>\n",
       "    <tr>\n",
       "      <th>7</th>\n",
       "      <td>0.946</td>\n",
       "      <td>0.031749</td>\n",
       "    </tr>\n",
       "    <tr>\n",
       "      <th>8</th>\n",
       "      <td>0.942</td>\n",
       "      <td>0.015250</td>\n",
       "    </tr>\n",
       "    <tr>\n",
       "      <th>9</th>\n",
       "      <td>0.940</td>\n",
       "      <td>0.007080</td>\n",
       "    </tr>\n",
       "    <tr>\n",
       "      <th>10</th>\n",
       "      <td>0.939</td>\n",
       "      <td>0.003015</td>\n",
       "    </tr>\n",
       "    <tr>\n",
       "      <th>11</th>\n",
       "      <td>0.938</td>\n",
       "      <td>0.000988</td>\n",
       "    </tr>\n",
       "  </tbody>\n",
       "</table>\n",
       "</div>"
      ],
      "text/plain": [
       "        0         0\n",
       "0   0.000  0.000000\n",
       "1   1.000  1.000000\n",
       "2   0.750 -0.581303\n",
       "3   0.875 -0.232256\n",
       "4   0.938 -0.003058\n",
       "5   0.969  0.130938\n",
       "6   0.954  0.063270\n",
       "7   0.946  0.031749\n",
       "8   0.942  0.015250\n",
       "9   0.940  0.007080\n",
       "10  0.939  0.003015\n",
       "11  0.938  0.000988"
      ]
     },
     "execution_count": 78,
     "metadata": {},
     "output_type": "execute_result"
    }
   ],
   "source": [
    "#new\n",
    "c_g1, c_g2 = 0, 0\n",
    "i = 1\n",
    "j = 0\n",
    "while True:\n",
    "    #print(bisect, round(g1, precision), round(g2, precision))\n",
    "    bisect = (g1+g2)/2\n",
    "    \n",
    "    if c_g1:  #g1 is changed then do this\n",
    "        if bisect == g1:\n",
    "            if c_g1 == 2:\n",
    "                break\n",
    "            c_g1 += 1\n",
    "        else:\n",
    "            c_g1 = 0\n",
    "    \n",
    "    if c_g2: #g2 is changed then do this\n",
    "        if  bisect == g2:\n",
    "            if c_g2 == 2:\n",
    "                break\n",
    "            c_g2 += 1\n",
    "        else:\n",
    "            c_g2 = 0\n",
    "                \n",
    "    x =round(bisect, precision+1)\n",
    "    fb = eval(expression)\n",
    "    \n",
    "    if fb>0:\n",
    "        bisect = round(bisect, precision)\n",
    "        if var1[1]>0: #comparing value of fx\n",
    "            c_g1 = 1\n",
    "            g1 = bisect\n",
    "            var1[1] = fb\n",
    "        else:\n",
    "            c_g2 = 1\n",
    "            g2 = bisect\n",
    "            var2[1] = fb\n",
    "    if fb<0:\n",
    "        bisect = round(bisect, precision)\n",
    "        if var1[1]<0:\n",
    "            c_g1 = 1\n",
    "            g1 = bisect\n",
    "            var1[1] = fb\n",
    "        else :\n",
    "            c_g2 = 1\n",
    "            g2 = bisect\n",
    "            var2[1] = fb\n",
    "    if fb == 0:\n",
    "        break\n",
    "          \n",
    "    j = 1+j\n",
    "    if j == 100:    #just for safety that we dont fo in infinite loop\n",
    "        break\n",
    "    print(i)\n",
    "    bisect = round(bisect, precision) #otherwise we will go in infinite loop because we are working with floating point numbers\n",
    "    if c_g1 and c_g2 == 0 :   #if we remove 'and' part then we will get 2 more index in df\n",
    "        i += 1\n",
    "        subdf1 = pd.DataFrame([g1], index = [i])\n",
    "        sd = pd.DataFrame([fb], index = [i])\n",
    "        subdf1 = pd.concat([subdf1, sd], axis = 1)\n",
    "        iter = pd.concat([iter, subdf1])\n",
    "    if c_g2 and c_g1 == 0:    #if we remove 'and' part then we will get 2 more index in df\n",
    "        i = i+1\n",
    "        subdf2 = pd.DataFrame([g2], index = [i])\n",
    "        sd = pd.DataFrame([fb], index = [i])\n",
    "        subdf2 = pd.concat([subdf2, sd], axis = 1)\n",
    "        iter = pd.concat([iter, subdf2])\n",
    "    \n",
    "    #subdf = pd.concat([subdf1, subdf2])\n",
    "    #iter = pd.concat([iter, subdf1, subdf2])\n",
    "\n",
    "iter"
   ]
  },
  {
   "cell_type": "code",
   "execution_count": null,
   "metadata": {},
   "outputs": [],
   "source": []
  },
  {
   "cell_type": "code",
   "execution_count": null,
   "metadata": {},
   "outputs": [],
   "source": []
  },
  {
   "cell_type": "code",
   "execution_count": null,
   "metadata": {},
   "outputs": [],
   "source": []
  }
 ],
 "metadata": {
  "kernelspec": {
   "display_name": "Python 3",
   "language": "python",
   "name": "python3"
  },
  "language_info": {
   "codemirror_mode": {
    "name": "ipython",
    "version": 3
   },
   "file_extension": ".py",
   "mimetype": "text/x-python",
   "name": "python",
   "nbconvert_exporter": "python",
   "pygments_lexer": "ipython3",
   "version": "3.7.1"
  }
 },
 "nbformat": 4,
 "nbformat_minor": 2
}
