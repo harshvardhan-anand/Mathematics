{
 "cells": [
  {
   "cell_type": "code",
   "execution_count": 1,
   "metadata": {},
   "outputs": [],
   "source": [
    "import pandas as pd"
   ]
  },
  {
   "cell_type": "code",
   "execution_count": null,
   "metadata": {},
   "outputs": [],
   "source": [
    "exp1 = (input(\"Enter the expression1 in terms of y, z: \"))"
   ]
  },
  {
   "cell_type": "code",
   "execution_count": 3,
   "metadata": {},
   "outputs": [
    {
     "name": "stdout",
     "output_type": "stream",
     "text": [
      "Enter the expression2 in terms of x, z: (48-x+2*z)/17\n"
     ]
    }
   ],
   "source": [
    "exp2 = (input(\"Enter the expression2 in terms of x, z: \"))"
   ]
  },
  {
   "cell_type": "code",
   "execution_count": 4,
   "metadata": {},
   "outputs": [
    {
     "name": "stdout",
     "output_type": "stream",
     "text": [
      "Enter the expression3 in terms of x, y: (15-x-y)/9\n"
     ]
    }
   ],
   "source": [
    "exp3 = (input(\"Enter the expression3 in terms of x, y: \"))"
   ]
  },
  {
   "cell_type": "code",
   "execution_count": 14,
   "metadata": {},
   "outputs": [
    {
     "name": "stdout",
     "output_type": "stream",
     "text": [
      "Enter the precision digits: 6\n"
     ]
    }
   ],
   "source": [
    "precision = int(input(\"Enter the precision digits: \"))"
   ]
  },
  {
   "cell_type": "code",
   "execution_count": 20,
   "metadata": {},
   "outputs": [
    {
     "name": "stdout",
     "output_type": "stream",
     "text": [
      "enter the guess point 1: 0\n"
     ]
    }
   ],
   "source": [
    "x = round(int(input(\"enter the guess point 1: \")), precision)"
   ]
  },
  {
   "cell_type": "code",
   "execution_count": 21,
   "metadata": {},
   "outputs": [
    {
     "name": "stdout",
     "output_type": "stream",
     "text": [
      "Enter the guess point 2: 0\n"
     ]
    }
   ],
   "source": [
    "y = round(int(input(\"Enter the guess point 2: \")), precision)"
   ]
  },
  {
   "cell_type": "code",
   "execution_count": 22,
   "metadata": {},
   "outputs": [
    {
     "name": "stdout",
     "output_type": "stream",
     "text": [
      "Enter the guess point 2: 0\n"
     ]
    }
   ],
   "source": [
    "z = round(int(input(\"Enter the guess point 2: \")), precision)"
   ]
  },
  {
   "cell_type": "code",
   "execution_count": 23,
   "metadata": {},
   "outputs": [
    {
     "name": "stdout",
     "output_type": "stream",
     "text": [
      "0 ---------- 0 ------------ 0\n",
      "2.5 ---------- 2.676471 ------------ 2.5\n",
      "2.569281 ---------- 2.800807 ------------ 2.569281\n",
      "2.579721 ---------- 2.797662 ------------ 2.579721\n",
      "2.579593 ---------- 2.797575 ------------ 2.579593\n",
      "2.579585 ---------- 2.797578 ------------ 2.579585\n"
     ]
    },
    {
     "data": {
      "text/html": [
       "<div>\n",
       "<style scoped>\n",
       "    .dataframe tbody tr th:only-of-type {\n",
       "        vertical-align: middle;\n",
       "    }\n",
       "\n",
       "    .dataframe tbody tr th {\n",
       "        vertical-align: top;\n",
       "    }\n",
       "\n",
       "    .dataframe thead th {\n",
       "        text-align: right;\n",
       "    }\n",
       "</style>\n",
       "<table border=\"1\" class=\"dataframe\">\n",
       "  <thead>\n",
       "    <tr style=\"text-align: right;\">\n",
       "      <th></th>\n",
       "      <th>xn</th>\n",
       "      <th>yn</th>\n",
       "      <th>zn</th>\n",
       "    </tr>\n",
       "  </thead>\n",
       "  <tbody>\n",
       "    <tr>\n",
       "      <th>0</th>\n",
       "      <td>2.500000</td>\n",
       "      <td>2.676471</td>\n",
       "      <td>1.091503</td>\n",
       "    </tr>\n",
       "    <tr>\n",
       "      <th>1</th>\n",
       "      <td>2.569281</td>\n",
       "      <td>2.800807</td>\n",
       "      <td>1.069990</td>\n",
       "    </tr>\n",
       "    <tr>\n",
       "      <th>2</th>\n",
       "      <td>2.579721</td>\n",
       "      <td>2.797662</td>\n",
       "      <td>1.069180</td>\n",
       "    </tr>\n",
       "    <tr>\n",
       "      <th>3</th>\n",
       "      <td>2.579593</td>\n",
       "      <td>2.797575</td>\n",
       "      <td>1.069204</td>\n",
       "    </tr>\n",
       "    <tr>\n",
       "      <th>4</th>\n",
       "      <td>2.579585</td>\n",
       "      <td>2.797578</td>\n",
       "      <td>1.069204</td>\n",
       "    </tr>\n",
       "  </tbody>\n",
       "</table>\n",
       "</div>"
      ],
      "text/plain": [
       "         xn        yn        zn\n",
       "0  2.500000  2.676471  1.091503\n",
       "1  2.569281  2.800807  1.069990\n",
       "2  2.579721  2.797662  1.069180\n",
       "3  2.579593  2.797575  1.069204\n",
       "4  2.579585  2.797578  1.069204"
      ]
     },
     "execution_count": 23,
     "metadata": {},
     "output_type": "execute_result"
    }
   ],
   "source": [
    "flag_x, flag_y, flag_z = 0, 0, 0\n",
    "i = 0\n",
    "while True:\n",
    "    #print(x,'----------', y,'------------', x)\n",
    "    \n",
    "    x = round(eval(exp1), precision)\n",
    "    y = round(eval(exp2), precision)\n",
    "    z = round(eval(exp3), precision)\n",
    "    \n",
    "    if flag_x==x and flag_y == y and flag_z == z:\n",
    "        break\n",
    "    \n",
    "    flag_x = x\n",
    "    flag_y = y\n",
    "    flag_z = z\n",
    "    \n",
    "    xn = pd.DataFrame([x], columns = ['xn'], index=[i])\n",
    "    yn = pd.DataFrame([y], columns = ['yn'], index=[i])\n",
    "    zn = pd.DataFrame([z], columns = ['zn'], index=[i])\n",
    "    subdf = pd.concat([xn, yn, zn], axis = 1)\n",
    "    \n",
    "    if i == 0:\n",
    "        iter = pd.DataFrame(subdf)\n",
    "    else:\n",
    "        iter = pd.concat([iter, subdf], axis = 0)\n",
    "        \n",
    "    i += 1\n",
    "    \n",
    "    if i==25:\n",
    "        break\n",
    "iter"
   ]
  },
  {
   "cell_type": "code",
   "execution_count": null,
   "metadata": {},
   "outputs": [],
   "source": []
  }
 ],
 "metadata": {
  "kernelspec": {
   "display_name": "Python 3",
   "language": "python",
   "name": "python3"
  },
  "language_info": {
   "codemirror_mode": {
    "name": "ipython",
    "version": 3
   },
   "file_extension": ".py",
   "mimetype": "text/x-python",
   "name": "python",
   "nbconvert_exporter": "python",
   "pygments_lexer": "ipython3",
   "version": "3.7.1"
  }
 },
 "nbformat": 4,
 "nbformat_minor": 2
}
