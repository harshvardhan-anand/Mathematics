{
 "cells": [
  {
   "cell_type": "code",
   "execution_count": 46,
   "metadata": {},
   "outputs": [
    {
     "name": "stdout",
     "output_type": "stream",
     "text": [
      "Enter exp1: (85+z+6*y)/27\n",
      "Enter exp2: (72-2*z-6*x)/15\n",
      "Enter exp3: (110-x+y)/54\n"
     ]
    }
   ],
   "source": [
    "exp1 = input(\"Enter exp1: \")\n",
    "exp2 = input('Enter exp2: ')\n",
    "exp3 = input('Enter exp3: ')"
   ]
  },
  {
   "cell_type": "code",
   "execution_count": 48,
   "metadata": {},
   "outputs": [
    {
     "name": "stdout",
     "output_type": "stream",
     "text": [
      "(85+z+6*y)/27 \n",
      " (72-2*z-6*x)/15 \n",
      " (110-x+y)/54\n",
      "---------------- iter 0 ----------------\n",
      "x:  0 \n",
      "y:  0 \n",
      "z:  0\n",
      "---------------- iter 1 ----------------\n",
      "x:  3.1481 \n",
      "y:  4.8 \n",
      "z:  2.037\n",
      "---------------- iter 2 ----------------\n",
      "x:  4.2903 \n",
      "y:  3.2692 \n",
      "z:  2.0676\n",
      "---------------- iter 3 ----------------\n",
      "x:  3.9512 \n",
      "y:  2.8082 \n",
      "z:  2.0181\n",
      "---------------- iter 4 ----------------\n",
      "x:  3.8469 \n",
      "y:  2.9504 \n",
      "z:  2.0159\n",
      "---------------- iter 5 ----------------\n",
      "x:  3.8785 \n",
      "y:  2.9925 \n",
      "z:  2.0204\n",
      "---------------- iter 6 ----------------\n",
      "x:  3.888 \n",
      "y:  2.9792 \n",
      "z:  2.0206\n",
      "---------------- iter 7 ----------------\n",
      "x:  3.885 \n",
      "y:  2.9754 \n",
      "z:  2.0202\n",
      "---------------- iter 8 ----------------\n",
      "x:  3.8842 \n",
      "y:  2.9766 \n",
      "z:  2.0202\n",
      "---------------- iter 9 ----------------\n",
      "x:  3.8844 \n",
      "y:  2.977 \n",
      "z:  2.0202\n",
      "---------------- iter 10 ----------------\n",
      "x:  3.8845 \n",
      "y:  2.9769 \n",
      "z:  2.0202\n",
      "---------------- iter 11 ----------------\n",
      "x:  3.8845 \n",
      "y:  2.9768 \n",
      "z:  2.0202\n"
     ]
    }
   ],
   "source": [
    "p = 4\n",
    "print(exp1, '\\n', exp2, '\\n', exp3)\n",
    "x, y, z = 0,0,0\n",
    "i = 0\n",
    "while True:\n",
    "    a = eval(exp1)\n",
    "    b = eval(exp2)\n",
    "    c = eval(exp3)\n",
    "    print(f'---------------- iter {i} ----------------'.format(i))\n",
    "    print('x: ', x,'\\ny: ', y, '\\nz: ', z)\n",
    "    \n",
    "    if round(a, p) == x and round(b, p) == y and round(c, p) == z:\n",
    "        #print(f'---------------- iter {i} ----------------'.format(i))\n",
    "        #print('x: ', y,'\\ny: ', y, '\\nz: ', z)\n",
    "        break\n",
    "        \n",
    "    x = round(a, p)\n",
    "    y = round(b, p)\n",
    "    z = round(c, p)\n",
    "    \n",
    "    if i==25:\n",
    "        break\n",
    "        \n",
    "    i += 1"
   ]
  },
  {
   "cell_type": "code",
   "execution_count": null,
   "metadata": {},
   "outputs": [],
   "source": []
  }
 ],
 "metadata": {
  "kernelspec": {
   "display_name": "Python 3",
   "language": "python",
   "name": "python3"
  },
  "language_info": {
   "codemirror_mode": {
    "name": "ipython",
    "version": 3
   },
   "file_extension": ".py",
   "mimetype": "text/x-python",
   "name": "python",
   "nbconvert_exporter": "python",
   "pygments_lexer": "ipython3",
   "version": "3.7.1"
  }
 },
 "nbformat": 4,
 "nbformat_minor": 2
}
