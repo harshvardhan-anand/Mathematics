{
 "cells": [
  {
   "cell_type": "code",
   "execution_count": 281,
   "metadata": {},
   "outputs": [],
   "source": [
    "import pandas as pd"
   ]
  },
  {
   "cell_type": "code",
   "execution_count": 282,
   "metadata": {},
   "outputs": [
    {
     "name": "stdout",
     "output_type": "stream",
     "text": [
      "Enter the expression in terms of x: x**3-2*x-5\n"
     ]
    }
   ],
   "source": [
    "expression = (input(\"Enter the expression in terms of x: \"))"
   ]
  },
  {
   "cell_type": "code",
   "execution_count": 283,
   "metadata": {},
   "outputs": [
    {
     "name": "stdout",
     "output_type": "stream",
     "text": [
      "Enter the precision digits: 3\n"
     ]
    }
   ],
   "source": [
    "precision = int(input(\"Enter the precision digits: \"))"
   ]
  },
  {
   "cell_type": "code",
   "execution_count": 284,
   "metadata": {},
   "outputs": [
    {
     "name": "stdout",
     "output_type": "stream",
     "text": [
      "enter the guess point 1: -1\n"
     ]
    }
   ],
   "source": [
    "g1 = round(int(input(\"enter the guess point 1: \")), precision+1)"
   ]
  },
  {
   "cell_type": "code",
   "execution_count": 285,
   "metadata": {},
   "outputs": [
    {
     "name": "stdout",
     "output_type": "stream",
     "text": [
      "Enter the guess point 2: 3\n"
     ]
    }
   ],
   "source": [
    "g2 = round(int(input(\"Enter the guess point 2: \")), precision+1)"
   ]
  },
  {
   "cell_type": "code",
   "execution_count": 286,
   "metadata": {},
   "outputs": [],
   "source": [
    "bisect = None"
   ]
  },
  {
   "cell_type": "code",
   "execution_count": 287,
   "metadata": {},
   "outputs": [],
   "source": [
    "var1 = [g1]"
   ]
  },
  {
   "cell_type": "code",
   "execution_count": 288,
   "metadata": {},
   "outputs": [],
   "source": [
    "var2 = [g2]"
   ]
  },
  {
   "cell_type": "code",
   "execution_count": 289,
   "metadata": {},
   "outputs": [],
   "source": [
    "x = g1"
   ]
  },
  {
   "cell_type": "code",
   "execution_count": 290,
   "metadata": {},
   "outputs": [],
   "source": [
    "#value of fx\n",
    "var1.append(eval(expression))"
   ]
  },
  {
   "cell_type": "code",
   "execution_count": 291,
   "metadata": {},
   "outputs": [],
   "source": [
    "x = g2"
   ]
  },
  {
   "cell_type": "code",
   "execution_count": 292,
   "metadata": {},
   "outputs": [],
   "source": [
    "#value of fx\n",
    "var2.append(eval(expression))"
   ]
  },
  {
   "cell_type": "code",
   "execution_count": 293,
   "metadata": {},
   "outputs": [],
   "source": [
    "subdf1 = pd.DataFrame([var1[0]], index = [0])\n",
    "\n",
    "subdf2 = pd.DataFrame([var2[0]], index = [1])"
   ]
  },
  {
   "cell_type": "code",
   "execution_count": 294,
   "metadata": {},
   "outputs": [],
   "source": [
    "iter = pd.concat([subdf1, subdf2] )"
   ]
  },
  {
   "cell_type": "code",
   "execution_count": 295,
   "metadata": {},
   "outputs": [
    {
     "name": "stdout",
     "output_type": "stream",
     "text": [
      "[-1, -4] [3, 16]\n"
     ]
    },
    {
     "data": {
      "text/html": [
       "<div>\n",
       "<style scoped>\n",
       "    .dataframe tbody tr th:only-of-type {\n",
       "        vertical-align: middle;\n",
       "    }\n",
       "\n",
       "    .dataframe tbody tr th {\n",
       "        vertical-align: top;\n",
       "    }\n",
       "\n",
       "    .dataframe thead th {\n",
       "        text-align: right;\n",
       "    }\n",
       "</style>\n",
       "<table border=\"1\" class=\"dataframe\">\n",
       "  <thead>\n",
       "    <tr style=\"text-align: right;\">\n",
       "      <th></th>\n",
       "      <th>0</th>\n",
       "    </tr>\n",
       "  </thead>\n",
       "  <tbody>\n",
       "    <tr>\n",
       "      <th>0</th>\n",
       "      <td>-1</td>\n",
       "    </tr>\n",
       "    <tr>\n",
       "      <th>1</th>\n",
       "      <td>3</td>\n",
       "    </tr>\n",
       "  </tbody>\n",
       "</table>\n",
       "</div>"
      ],
      "text/plain": [
       "   0\n",
       "0 -1\n",
       "1  3"
      ]
     },
     "execution_count": 295,
     "metadata": {},
     "output_type": "execute_result"
    }
   ],
   "source": [
    "print(var1, var2)\n",
    "iter"
   ]
  },
  {
   "cell_type": "markdown",
   "metadata": {},
   "source": [
    "i = 0\n",
    "while bisect != round(g1, precision) and bisect != round(g2, precision):\n",
    "    print(bisect, round(g1, precision), round(g2, precision))\n",
    "    bisect = (g1+g2)/2\n",
    "    x =round(bisect, precision+1)\n",
    "    fb = eval(expression)\n",
    "    \n",
    "    if fb>0:\n",
    "        bisect = round(bisect, precision)\n",
    "        if var1[1]>0: #comparing value of fx\n",
    "            g1 = bisect\n",
    "            var1[1] = fb\n",
    "        else:\n",
    "            g2 = bisect\n",
    "            var2[1] = fb\n",
    "    if fb<0:\n",
    "        bisect = round(bisect, precision)\n",
    "        if var1[1]<0:\n",
    "            g1 = bisect\n",
    "            var1[1] = fb\n",
    "        else :\n",
    "            g2 = bisect\n",
    "            var2[1] = fb\n",
    "    if fb == 0:\n",
    "        break\n",
    "          \n",
    "    i = 1+i\n",
    "    if i == 25:\n",
    "        break\n",
    "    print(i)\n",
    "    bisect = round(bisect, precision) #otherwise we will go in infinite loop because we are working with floating point numbers\n",
    "    subdf1 = pd.DataFrame([g1], index = [i])\n",
    "    subdf2 = pd.DataFrame([g2], index = [i+1])\n",
    "    #subdf = pd.concat([subdf1, subdf2])\n",
    "    iter = pd.concat([iter, subdf1, subdf2])\n",
    "    #print(iter)\n",
    "\n",
    "iter"
   ]
  },
  {
   "cell_type": "code",
   "execution_count": 296,
   "metadata": {},
   "outputs": [
    {
     "name": "stdout",
     "output_type": "stream",
     "text": [
      "None -1 3\n",
      "1\n",
      "1.0 1.0 3\n",
      "2\n",
      "2.0 2.0 3\n",
      "3\n",
      "2.5 2.0 2.5\n",
      "4\n",
      "2.25 2.0 2.25\n",
      "5\n",
      "2.125 2.0 2.125\n",
      "6\n",
      "2.062 2.062 2.125\n",
      "7\n",
      "2.093 2.093 2.125\n",
      "8\n",
      "2.109 2.093 2.109\n",
      "9\n",
      "2.101 2.093 2.101\n",
      "10\n",
      "2.097 2.093 2.097\n",
      "11\n",
      "2.095 2.093 2.095\n",
      "12\n",
      "2.094 2.094 2.095\n",
      "13\n",
      "2.095 2.095 2.095\n",
      "14\n",
      "2.095 2.095 2.095\n"
     ]
    },
    {
     "data": {
      "text/html": [
       "<div>\n",
       "<style scoped>\n",
       "    .dataframe tbody tr th:only-of-type {\n",
       "        vertical-align: middle;\n",
       "    }\n",
       "\n",
       "    .dataframe tbody tr th {\n",
       "        vertical-align: top;\n",
       "    }\n",
       "\n",
       "    .dataframe thead th {\n",
       "        text-align: right;\n",
       "    }\n",
       "</style>\n",
       "<table border=\"1\" class=\"dataframe\">\n",
       "  <thead>\n",
       "    <tr style=\"text-align: right;\">\n",
       "      <th></th>\n",
       "      <th>0</th>\n",
       "    </tr>\n",
       "  </thead>\n",
       "  <tbody>\n",
       "    <tr>\n",
       "      <th>0</th>\n",
       "      <td>-1.000</td>\n",
       "    </tr>\n",
       "    <tr>\n",
       "      <th>1</th>\n",
       "      <td>3.000</td>\n",
       "    </tr>\n",
       "    <tr>\n",
       "      <th>2</th>\n",
       "      <td>1.000</td>\n",
       "    </tr>\n",
       "    <tr>\n",
       "      <th>3</th>\n",
       "      <td>2.000</td>\n",
       "    </tr>\n",
       "    <tr>\n",
       "      <th>4</th>\n",
       "      <td>2.500</td>\n",
       "    </tr>\n",
       "    <tr>\n",
       "      <th>5</th>\n",
       "      <td>2.250</td>\n",
       "    </tr>\n",
       "    <tr>\n",
       "      <th>6</th>\n",
       "      <td>2.125</td>\n",
       "    </tr>\n",
       "    <tr>\n",
       "      <th>7</th>\n",
       "      <td>2.062</td>\n",
       "    </tr>\n",
       "    <tr>\n",
       "      <th>8</th>\n",
       "      <td>2.093</td>\n",
       "    </tr>\n",
       "    <tr>\n",
       "      <th>9</th>\n",
       "      <td>2.109</td>\n",
       "    </tr>\n",
       "    <tr>\n",
       "      <th>10</th>\n",
       "      <td>2.101</td>\n",
       "    </tr>\n",
       "    <tr>\n",
       "      <th>11</th>\n",
       "      <td>2.097</td>\n",
       "    </tr>\n",
       "    <tr>\n",
       "      <th>12</th>\n",
       "      <td>2.095</td>\n",
       "    </tr>\n",
       "    <tr>\n",
       "      <th>13</th>\n",
       "      <td>2.094</td>\n",
       "    </tr>\n",
       "    <tr>\n",
       "      <th>14</th>\n",
       "      <td>2.095</td>\n",
       "    </tr>\n",
       "  </tbody>\n",
       "</table>\n",
       "</div>"
      ],
      "text/plain": [
       "        0\n",
       "0  -1.000\n",
       "1   3.000\n",
       "2   1.000\n",
       "3   2.000\n",
       "4   2.500\n",
       "5   2.250\n",
       "6   2.125\n",
       "7   2.062\n",
       "8   2.093\n",
       "9   2.109\n",
       "10  2.101\n",
       "11  2.097\n",
       "12  2.095\n",
       "13  2.094\n",
       "14  2.095"
      ]
     },
     "execution_count": 296,
     "metadata": {},
     "output_type": "execute_result"
    }
   ],
   "source": [
    "#new\n",
    "c_g1, c_g2 = 0, 0\n",
    "i = 1\n",
    "j = 0\n",
    "while True:\n",
    "    #print(bisect, round(g1, precision), round(g2, precision))\n",
    "    bisect = (g1+g2)/2\n",
    "    \n",
    "    if c_g1:  #g1 is changed then do this\n",
    "        if bisect == g1:\n",
    "            if c_g1 == 2:\n",
    "                break\n",
    "            c_g1 += 1\n",
    "        else:\n",
    "            c_g1 = 0\n",
    "    \n",
    "    if c_g2: #g2 is changed then do this\n",
    "        if  bisect == g2:\n",
    "            if c_g2 == 2:\n",
    "                break\n",
    "            c_g2 += 1\n",
    "        else:\n",
    "            c_g2 = 0\n",
    "                \n",
    "    x =round(bisect, precision+1)\n",
    "    fb = eval(expression)\n",
    "    \n",
    "    if fb>0:\n",
    "        bisect = round(bisect, precision)\n",
    "        if var1[1]>0: #comparing value of fx\n",
    "            c_g1 = 1\n",
    "            g1 = bisect\n",
    "            var1[1] = fb\n",
    "        else:\n",
    "            c_g2 = 1\n",
    "            g2 = bisect\n",
    "            var2[1] = fb\n",
    "    if fb<0:\n",
    "        bisect = round(bisect, precision)\n",
    "        if var1[1]<0:\n",
    "            c_g1 = 1\n",
    "            g1 = bisect\n",
    "            var1[1] = fb\n",
    "        else :\n",
    "            c_g2 = 1\n",
    "            g2 = bisect\n",
    "            var2[1] = fb\n",
    "    if fb == 0:\n",
    "        break\n",
    "          \n",
    "    j = 1+j\n",
    "    if j == 100:    #just for safety that we dont fo in infinite loop\n",
    "        break\n",
    "    print(i)\n",
    "    bisect = round(bisect, precision) #otherwise we will go in infinite loop because we are working with floating point numbers\n",
    "    if c_g1 and c_g2 == 0 :   #if we remove 'and' part then we will get 2 more index in df\n",
    "        i += 1\n",
    "        subdf1 = pd.DataFrame([g1], index = [i])\n",
    "        iter = pd.concat([iter, subdf1])\n",
    "    if c_g2 and c_g1 == 0:    #if we remove 'and' part then we will get 2 more index in df\n",
    "        i = i+1\n",
    "        subdf2 = pd.DataFrame([g2], index = [i])\n",
    "        iter = pd.concat([iter, subdf2])\n",
    "    \n",
    "    #subdf = pd.concat([subdf1, subdf2])\n",
    "    #iter = pd.concat([iter, subdf1, subdf2])\n",
    "\n",
    "iter"
   ]
  },
  {
   "cell_type": "code",
   "execution_count": null,
   "metadata": {},
   "outputs": [],
   "source": []
  },
  {
   "cell_type": "code",
   "execution_count": null,
   "metadata": {},
   "outputs": [],
   "source": []
  }
 ],
 "metadata": {
  "kernelspec": {
   "display_name": "Python 3",
   "language": "python",
   "name": "python3"
  },
  "language_info": {
   "codemirror_mode": {
    "name": "ipython",
    "version": 3
   },
   "file_extension": ".py",
   "mimetype": "text/x-python",
   "name": "python",
   "nbconvert_exporter": "python",
   "pygments_lexer": "ipython3",
   "version": "3.7.1"
  }
 },
 "nbformat": 4,
 "nbformat_minor": 2
}
