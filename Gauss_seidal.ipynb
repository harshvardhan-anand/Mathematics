{
 "cells": [
  {
   "cell_type": "code",
   "execution_count": 1,
   "metadata": {},
   "outputs": [],
   "source": [
    "import pandas as pd"
   ]
  },
  {
   "cell_type": "code",
   "execution_count": 29,
   "metadata": {},
   "outputs": [
    {
     "name": "stdout",
     "output_type": "stream",
     "text": [
      "Enter the expression1 in terms of y, z: (85+z+6*y)/27\n",
      "Enter the expression2 in terms of x, z: (72-2*z-6*x)/15\n",
      "Enter the expression3 in terms of x, y: (110-x+y)/54\n"
     ]
    }
   ],
   "source": [
    "exp1 = (input(\"Enter the expression1 in terms of y, z: \"))\n",
    "\n",
    "exp2 = (input(\"Enter the expression2 in terms of x, z: \"))\n",
    "\n",
    "exp3 = (input(\"Enter the expression3 in terms of x, y: \"))"
   ]
  },
  {
   "cell_type": "code",
   "execution_count": 30,
   "metadata": {},
   "outputs": [
    {
     "name": "stdout",
     "output_type": "stream",
     "text": [
      "Enter the precision digits: 4\n"
     ]
    }
   ],
   "source": [
    "precision = int(input(\"Enter the precision digits: \"))"
   ]
  },
  {
   "cell_type": "code",
   "execution_count": 31,
   "metadata": {},
   "outputs": [
    {
     "name": "stdout",
     "output_type": "stream",
     "text": [
      "enter the guess point 1: 0\n"
     ]
    }
   ],
   "source": [
    "x = round(int(input(\"enter the guess point 1: \")), precision)"
   ]
  },
  {
   "cell_type": "code",
   "execution_count": 32,
   "metadata": {},
   "outputs": [
    {
     "name": "stdout",
     "output_type": "stream",
     "text": [
      "Enter the guess point 2: 0\n"
     ]
    }
   ],
   "source": [
    "y = round(int(input(\"Enter the guess point 2: \")), precision)"
   ]
  },
  {
   "cell_type": "code",
   "execution_count": 33,
   "metadata": {},
   "outputs": [
    {
     "name": "stdout",
     "output_type": "stream",
     "text": [
      "Enter the guess point 2: 0\n"
     ]
    }
   ],
   "source": [
    "z = round(int(input(\"Enter the guess point 2: \")), precision)"
   ]
  },
  {
   "cell_type": "code",
   "execution_count": 34,
   "metadata": {},
   "outputs": [
    {
     "name": "stdout",
     "output_type": "stream",
     "text": [
      "(85+z+6*y)/27 \n",
      " (72-2*z-6*x)/15 \n",
      " (110-x+y)/54\n"
     ]
    },
    {
     "data": {
      "text/html": [
       "<div>\n",
       "<style scoped>\n",
       "    .dataframe tbody tr th:only-of-type {\n",
       "        vertical-align: middle;\n",
       "    }\n",
       "\n",
       "    .dataframe tbody tr th {\n",
       "        vertical-align: top;\n",
       "    }\n",
       "\n",
       "    .dataframe thead th {\n",
       "        text-align: right;\n",
       "    }\n",
       "</style>\n",
       "<table border=\"1\" class=\"dataframe\">\n",
       "  <thead>\n",
       "    <tr style=\"text-align: right;\">\n",
       "      <th></th>\n",
       "      <th>xn</th>\n",
       "      <th>yn</th>\n",
       "      <th>zn</th>\n",
       "    </tr>\n",
       "  </thead>\n",
       "  <tbody>\n",
       "    <tr>\n",
       "      <th>0</th>\n",
       "      <td>3.1481</td>\n",
       "      <td>3.5408</td>\n",
       "      <td>2.0443</td>\n",
       "    </tr>\n",
       "    <tr>\n",
       "      <th>1</th>\n",
       "      <td>4.0107</td>\n",
       "      <td>2.9231</td>\n",
       "      <td>2.0169</td>\n",
       "    </tr>\n",
       "    <tr>\n",
       "      <th>2</th>\n",
       "      <td>3.8724</td>\n",
       "      <td>2.9821</td>\n",
       "      <td>2.0206</td>\n",
       "    </tr>\n",
       "    <tr>\n",
       "      <th>3</th>\n",
       "      <td>3.8857</td>\n",
       "      <td>2.9763</td>\n",
       "      <td>2.0202</td>\n",
       "    </tr>\n",
       "    <tr>\n",
       "      <th>4</th>\n",
       "      <td>3.8844</td>\n",
       "      <td>2.9769</td>\n",
       "      <td>2.0202</td>\n",
       "    </tr>\n",
       "    <tr>\n",
       "      <th>5</th>\n",
       "      <td>3.8845</td>\n",
       "      <td>2.9768</td>\n",
       "      <td>2.0202</td>\n",
       "    </tr>\n",
       "  </tbody>\n",
       "</table>\n",
       "</div>"
      ],
      "text/plain": [
       "       xn      yn      zn\n",
       "0  3.1481  3.5408  2.0443\n",
       "1  4.0107  2.9231  2.0169\n",
       "2  3.8724  2.9821  2.0206\n",
       "3  3.8857  2.9763  2.0202\n",
       "4  3.8844  2.9769  2.0202\n",
       "5  3.8845  2.9768  2.0202"
      ]
     },
     "execution_count": 34,
     "metadata": {},
     "output_type": "execute_result"
    }
   ],
   "source": [
    "print(exp1,'\\n',exp2,'\\n',exp3)\n",
    "flag_x, flag_y, flag_z = 0, 0, 0\n",
    "i = 0\n",
    "while True:\n",
    "    #print(x,'----------', y,'------------', x)\n",
    "    \n",
    "    x = round(eval(exp1), precision)\n",
    "    y = round(eval(exp2), precision)\n",
    "    z = round(eval(exp3), precision)\n",
    "    \n",
    "    if flag_x==x and flag_y == y and flag_z == z:\n",
    "        break\n",
    "    \n",
    "    flag_x = x\n",
    "    flag_y = y\n",
    "    flag_z = z\n",
    "    \n",
    "    xn = pd.DataFrame([x], columns = ['xn'], index=[i])\n",
    "    yn = pd.DataFrame([y], columns = ['yn'], index=[i])\n",
    "    zn = pd.DataFrame([z], columns = ['zn'], index=[i])\n",
    "    subdf = pd.concat([xn, yn, zn], axis = 1)\n",
    "    \n",
    "    if i == 0:\n",
    "        iter = pd.DataFrame(subdf)\n",
    "    else:\n",
    "        iter = pd.concat([iter, subdf], axis = 0)\n",
    "        \n",
    "    i += 1\n",
    "    \n",
    "    if i==25:\n",
    "        break\n",
    "iter"
   ]
  },
  {
   "cell_type": "code",
   "execution_count": null,
   "metadata": {},
   "outputs": [],
   "source": []
  }
 ],
 "metadata": {
  "kernelspec": {
   "display_name": "Python 3",
   "language": "python",
   "name": "python3"
  },
  "language_info": {
   "codemirror_mode": {
    "name": "ipython",
    "version": 3
   },
   "file_extension": ".py",
   "mimetype": "text/x-python",
   "name": "python",
   "nbconvert_exporter": "python",
   "pygments_lexer": "ipython3",
   "version": "3.7.1"
  }
 },
 "nbformat": 4,
 "nbformat_minor": 2
}
